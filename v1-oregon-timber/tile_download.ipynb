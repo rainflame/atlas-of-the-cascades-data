{
 "cells": [
  {
   "cell_type": "code",
   "execution_count": 10,
   "metadata": {},
   "outputs": [],
   "source": [
    "import pyproj \n",
    "import math\n",
    "import requests\n",
    "import os\n",
    "from pathlib import Path\n",
    "import rasterio\n",
    "import numpy as np"
   ]
  },
  {
   "cell_type": "code",
   "execution_count": 10,
   "metadata": {},
   "outputs": [],
   "source": [
    "def get_highest_resolution_bbox(bbox_wgs84, dest_crs, pix_size_in_dest_crs):\n",
    "    split_bbox = bbox_wgs84.split(',')\n",
    "    min_x = float(split_bbox[0])\n",
    "    min_y = float(split_bbox[1])\n",
    "    max_x = float(split_bbox[2])\n",
    "    max_y = float(split_bbox[3])\n",
    "    \n",
    "    # convert bbox to web mercator\n",
    "    project = pyproj.Transformer.from_crs(\"EPSG:4326\", dest_crs, always_xy=True)\n",
    "    min_x, min_y = project.transform(min_x, min_y, direction='forward')\n",
    "    max_x, max_y = project.transform(max_x, max_y, direction='forward')\n",
    "    \n",
    "    width = max_x - min_x\n",
    "    height = max_y - min_y\n",
    "    width = width / pix_size_in_dest_crs\n",
    "    height = height / pix_size_in_dest_crs\n",
    "    \n",
    "    return (f\"{min_x},{min_y},{max_x},{max_y}\", (width, height))"
   ]
  },
  {
   "cell_type": "code",
   "execution_count": 12,
   "metadata": {},
   "outputs": [
    {
     "name": "stdout",
     "output_type": "stream",
     "text": [
      "-13909093.189087456,5137296.885289235,-12955159.069130989,5838479.182471741 (31797.80399854891, 23372.743239416865)\n"
     ]
    }
   ],
   "source": [
    "bbox, resolution = get_highest_resolution_bbox(\"-124.947510,41.841704,-116.378174,46.361555\", \"EPSG:3857\", 30)\n",
    "\n",
    "print(bbox, resolution)"
   ]
  },
  {
   "cell_type": "markdown",
   "metadata": {},
   "source": [
    "Feed the bbox, "
   ]
  },
  {
   "cell_type": "code",
   "execution_count": 40,
   "metadata": {},
   "outputs": [
    {
     "name": "stdout",
     "output_type": "stream",
     "text": [
      "num_tiles_x: 7, num_tiles_y: 5, total 35 tiles\n",
      "['-13909093,5137296,-13759093,5287296', '-13909093,5287296,-13759093,5437296', '-13909093,5437296,-13759093,5587296', '-13909093,5587296,-13759093,5737296', '-13909093,5737296,-13759093,5887296', '-13759093,5137296,-13609093,5287296', '-13759093,5287296,-13609093,5437296', '-13759093,5437296,-13609093,5587296', '-13759093,5587296,-13609093,5737296', '-13759093,5737296,-13609093,5887296', '-13609093,5137296,-13459093,5287296', '-13609093,5287296,-13459093,5437296', '-13609093,5437296,-13459093,5587296', '-13609093,5587296,-13459093,5737296', '-13609093,5737296,-13459093,5887296', '-13459093,5137296,-13309093,5287296', '-13459093,5287296,-13309093,5437296', '-13459093,5437296,-13309093,5587296', '-13459093,5587296,-13309093,5737296', '-13459093,5737296,-13309093,5887296', '-13309093,5137296,-13159093,5287296', '-13309093,5287296,-13159093,5437296', '-13309093,5437296,-13159093,5587296', '-13309093,5587296,-13159093,5737296', '-13309093,5737296,-13159093,5887296', '-13159093,5137296,-13009093,5287296', '-13159093,5287296,-13009093,5437296', '-13159093,5437296,-13009093,5587296', '-13159093,5587296,-13009093,5737296', '-13159093,5737296,-13009093,5887296', '-13009093,5137296,-12859093,5287296', '-13009093,5287296,-12859093,5437296', '-13009093,5437296,-12859093,5587296', '-13009093,5587296,-12859093,5737296', '-13009093,5737296,-12859093,5887296']\n"
     ]
    }
   ],
   "source": [
    "width = 5000\n",
    "height = 5000\n",
    "\n",
    "starting_x = -13909093\n",
    "starting_y = 5137296\n",
    "\n",
    "ending_x = -12955159\n",
    "ending_y = 5838479\n",
    "\n",
    "pix_size = 30\n",
    "\n",
    "diff_x = ending_x - starting_x\n",
    "diff_y = ending_y - starting_y\n",
    "\n",
    "num_tiles_x = math.ceil(diff_x / width / pix_size)\n",
    "num_tiles_y = math.ceil(diff_y / height / pix_size)   \n",
    "\n",
    "print(f\"num_tiles_x: {num_tiles_x}, num_tiles_y: {num_tiles_y}, total {num_tiles_x * num_tiles_y} tiles\")\n",
    "\n",
    "bbox_list = []\n",
    "\n",
    "for x in range(num_tiles_x):\n",
    "    for y in range(num_tiles_y):\n",
    "        bbox_list.append(f\"{starting_x + x * width * pix_size},{starting_y + y * height * pix_size},{starting_x + (x + 1) * width * pix_size},{starting_y + (y + 1) * height * pix_size}\")\n",
    "\n",
    "print(bbox_list)"
   ]
  },
  {
   "cell_type": "code",
   "execution_count": 54,
   "metadata": {},
   "outputs": [],
   "source": [
    "# base_url = \"https://di-usfsdata.img.arcgis.com/arcgis/rest/services/CONUS_site_productivity_2018_masked_202106032103033/ImageServer/exportImage\"\n",
    "# base_url = \"https://apps.fs.usda.gov/fsgisx03/rest/services/wo_nfs_gtac/Vegetation_Zones/ImageServer/exportImage\"\n",
    "# base_url = \"https://apps.fs.usda.gov/fsgisx01/rest/services/RDW_LandscapeAndWildlife/Science_TCC_CONUS/ImageServer/exportImage\"\n",
    "base_url = \"https://apps.fs.usda.gov/fsgisx01/rest/services/RDW_LandscapeAndWildlife/NLCD_TCC_CONUS/ImageServer/exportImage\"\n",
    "\n",
    "# tiles_path = \"productivity_tiles/\"\n",
    "# tiles_path = \"vegetation_tiles/\"\n",
    "tiles_path = \"canopy_tiles/\"\n",
    "\n",
    "params = {\n",
    "    'bbox': None,\n",
    "    'bboxSR': 3857,\n",
    "    'size': f\"{width},{height}\",\n",
    "    'format': 'tiff',\n",
    "    'pixelType': 'U8',\n",
    "    'noData': 0,\n",
    "    'noDataInterpretation': 'esriNoDataMatchAny',\n",
    "    'interpolation': 'RSP_NearestNeighbor',\n",
    "    'adjustAspectRatio': 'true',\n",
    "    'validateExtent': 'false',\n",
    "    'lercVersion': 1,\n",
    "    'f': 'image'\n",
    "}\n",
    "\n",
    "def fetch_tile(bbox_list, n):\n",
    "     # Update bbox parameter\n",
    "    params['bbox'] = bbox_list[n]\n",
    "    \n",
    "    # Make request to fetch tile\n",
    "    response = requests.get(base_url, params=params)\n",
    "    \n",
    "    if response.status_code == 200:\n",
    "        # Save tile to file\n",
    "        path_to_tile = f\"{tiles_path}tile_{i}.tiff\"\n",
    "        with open(path_to_tile, \"wb\") as f:\n",
    "            f.write(response.content)\n",
    "        print(f\"Saved tile {n}\")\n",
    "    else:\n",
    "        print(f\"Failed to fetch tile {n}: {response.status_code}\")\n"
   ]
  },
  {
   "cell_type": "code",
   "execution_count": 56,
   "metadata": {},
   "outputs": [
    {
     "name": "stdout",
     "output_type": "stream",
     "text": [
      "Saved tile 0\n",
      "Saved tile 1\n",
      "Saved tile 2\n",
      "Saved tile 3\n",
      "Saved tile 4\n",
      "Saved tile 5\n",
      "Saved tile 6\n",
      "Saved tile 7\n",
      "Saved tile 8\n",
      "Saved tile 9\n",
      "Saved tile 10\n",
      "Saved tile 11\n",
      "Saved tile 12\n",
      "Saved tile 13\n",
      "Saved tile 14\n",
      "Saved tile 15\n",
      "Saved tile 16\n",
      "Saved tile 17\n",
      "Saved tile 18\n",
      "Saved tile 19\n",
      "Saved tile 20\n",
      "Saved tile 21\n",
      "Saved tile 22\n",
      "Saved tile 23\n",
      "Saved tile 24\n",
      "Saved tile 25\n",
      "Saved tile 26\n",
      "Saved tile 27\n",
      "Saved tile 28\n",
      "Saved tile 29\n",
      "Saved tile 30\n",
      "Saved tile 31\n",
      "Saved tile 32\n",
      "Saved tile 33\n",
      "Saved tile 34\n"
     ]
    }
   ],
   "source": [
    "\n",
    "# Create tiles directory if it doesn't exist\n",
    "Path(tiles_path).mkdir(exist_ok=True)\n",
    "\n",
    "for i, bbox in enumerate(bbox_list):\n",
    "   fetch_tile(bbox_list, i)\n"
   ]
  },
  {
   "cell_type": "markdown",
   "metadata": {},
   "source": [
    "Combine the tiles\n",
    "```\n",
    "gdalbuildvrt -srcnodata 0 -vrtnodata 0 tiles.vrt tiles/*.tiff\n",
    "gdalwarp -s_srs EPSG:3857 -t_srs EPSG:4326 -srcnodata 0 -dstnodata 0 tiles.vrt tiles.tif\n",
    "```"
   ]
  },
  {
   "cell_type": "markdown",
   "metadata": {},
   "source": [
    "Tile: \n",
    "\n",
    "```\n",
    "rio mbtiles --format WEBP --tile-size 512 --zoom-levels 1..13 -j 10 --progress-bar output_rgb.tif output.mbtiles \n",
    "```\n"
   ]
  },
  {
   "cell_type": "markdown",
   "metadata": {},
   "source": []
  }
 ],
 "metadata": {
  "kernelspec": {
   "display_name": "atlas-cascades",
   "language": "python",
   "name": "python3"
  },
  "language_info": {
   "codemirror_mode": {
    "name": "ipython",
    "version": 3
   },
   "file_extension": ".py",
   "mimetype": "text/x-python",
   "name": "python",
   "nbconvert_exporter": "python",
   "pygments_lexer": "ipython3",
   "version": "3.13.1"
  }
 },
 "nbformat": 4,
 "nbformat_minor": 2
}
