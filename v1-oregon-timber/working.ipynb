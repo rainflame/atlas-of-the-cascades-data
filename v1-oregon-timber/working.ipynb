{
 "cells": [
  {
   "cell_type": "code",
   "execution_count": 41,
   "metadata": {},
   "outputs": [],
   "source": [
    "import fiona\n",
    "import math\n",
    "import json\n",
    "import uuid\n",
    "from fiona.crs import from_epsg\n",
    "from shapely.geometry import shape, MultiPolygon\n",
    "from shapely.ops import transform, unary_union\n",
    "import pyproj"
   ]
  },
  {
   "cell_type": "markdown",
   "metadata": {},
   "source": [
    "## Private ownership\n",
    "\n",
    "Merge features that share the same owner"
   ]
  },
  {
   "cell_type": "code",
   "execution_count": null,
   "metadata": {},
   "outputs": [],
   "source": [
    "with fiona.open('sources/private-industrial-ownership-wgs84.gpkg', 'r') as src:\n",
    "    private_industrial = [feature for feature in src]\n",
    "    \n",
    "    for feature in private_industrial: \n",
    "        if feature['properties']['LandManager'] == 'PVI':\n",
    "            feature['properties'] = {'owner': feature['properties']['Owner'], 'owner_class': 'private_industrial'}\n",
    "        else: \n",
    "            feature['properties'] = {'owner': 'Private Non-Industrial', 'owner_class': 'private_non_industrial'}\n",
    "            \n",
    "    grouped_features = {}\n",
    "    # combine the features that have the same owner into a single multipolygon\n",
    "    for feature in private_industrial:\n",
    "        if feature['properties']['owner'] not in grouped_features:\n",
    "            grouped_features[feature['properties']['owner']] = feature\n",
    "        else:\n",
    "            geometry = shape(feature['geometry'])\n",
    "            geometry2 = shape(grouped_features[feature['properties']['owner']]['geometry'])\n",
    "            combined_geometry = unary_union([geometry, geometry2])\n",
    "            assert type(combined_geometry) == MultiPolygon\n",
    "            grouped_features[feature['properties']['owner']] = {'geometry': combined_geometry, 'properties': feature['properties']}"
   ]
  },
  {
   "cell_type": "markdown",
   "metadata": {},
   "source": [
    "Now we add an ID, calculate the area in acres by converting to Oregon Lambert, and calclate the percent of the class each feature represents."
   ]
  },
  {
   "cell_type": "code",
   "execution_count": null,
   "metadata": {},
   "outputs": [],
   "source": [
    "total_industrial_area = 0\n",
    "total_non_industrial_area = 0    \n",
    "\n",
    "for feature in grouped_features.values():\n",
    "    \n",
    "    # add a unique id to each feature\n",
    "    feature['id'] = uuid.uuid4().int % (10**10)\n",
    "    \n",
    "    geometry = shape(feature['geometry'])\n",
    "    # Project from WGS84 (EPSG:4326) to Oregon Lambert (EPSG:2992)\n",
    "    transformer = pyproj.Transformer.from_crs('EPSG:4326', 'EPSG:2992', always_xy=True)\n",
    "    projected = transform(transformer.transform, geometry)\n",
    "    # oregon lambert is in square feet, convert to acres (1 acre = 43,560 square feet)\n",
    "    feature['properties']['area'] = round(shapely.area(projected) / 43560)\n",
    "    \n",
    "    # calculate the total area of each class\n",
    "    if feature['properties']['owner_class'] == 'private_industrial':\n",
    "        total_industrial_area += feature['properties']['area']\n",
    "    else:\n",
    "        total_non_industrial_area += feature['properties']['area']\n",
    "        \n",
    "# add the percent of each class each feature represents\n",
    "for feature in grouped_features.values():\n",
    "    if feature['properties']['owner_class'] == 'private_industrial':\n",
    "        feature['properties']['percent_of_class'] = round(feature['properties']['area'] / total_industrial_area * 100, 2)\n",
    "    else:\n",
    "        feature['properties']['percent_of_class'] = round(feature['properties']['area'] / total_non_industrial_area * 100, 2)\n",
    "        \n",
    "    feature['properties']['name'] = feature['properties']['owner']\n",
    "        \n",
    "        \n",
    "# print total acres and percent for each feature\n",
    "for feature in grouped_features.values():\n",
    "    print(feature['properties']['owner'], feature['properties']['area'], feature['properties']['percent_of_class'])\n",
    "\n",
    "print(total_industrial_area)\n",
    "print(total_non_industrial_area)\n"
   ]
  },
  {
   "cell_type": "code",
   "execution_count": null,
   "metadata": {},
   "outputs": [],
   "source": [
    "schema = {\n",
    "    'geometry': 'MultiPolygon',\n",
    "    'id': 'int',\n",
    "    'properties': {\n",
    "        'owner': 'str',\n",
    "        'owner_class': 'str',\n",
    "        'name': 'str',\n",
    "        'area': 'int',\n",
    "        'percent_of_class': 'float'\n",
    "    }\n",
    "}\n",
    "\n",
    "with fiona.open('sources/clean-private-lands.gpkg', 'w', driver='GPKG', schema=schema, crs=from_epsg(4326)) as dst:\n",
    "    dst.writerecords(grouped_features.values())"
   ]
  },
  {
   "cell_type": "markdown",
   "metadata": {},
   "source": [
    "Create a summary statistics file"
   ]
  },
  {
   "cell_type": "code",
   "execution_count": null,
   "metadata": {},
   "outputs": [],
   "source": [
    "out_json = {\n",
    "    'industrial_owners': [],\n",
    "    'non_industrial_owners': [],\n",
    "    'total_industrial_acres': total_industrial_area,\n",
    "    'total_non_industrial_acres': total_non_industrial_area\n",
    "}\n",
    "\n",
    "# sort the features by area in descending order\n",
    "grouped_features_sorted = sorted(grouped_features.values(), key=lambda x: x['properties']['area'], reverse=True)\n",
    "\n",
    "# add the features to the out_json\n",
    "for feature in grouped_features_sorted:\n",
    "    if feature['properties']['owner_class'] == 'private_industrial':\n",
    "        out_json['industrial_owners'].append({'owner': feature['properties']['owner'], 'acres': feature['properties']['area'], 'percent_of_class': feature['properties']['percent_of_class'], 'id': feature['id']})\n",
    "    else:\n",
    "        out_json['non_industrial_owners'].append({'owner': feature['properties']['owner'], 'acres': feature['properties']['area'], 'percent_of_class': feature['properties']['percent_of_class'], 'id': feature['id']})\n",
    "\n",
    "# save the out_json to a json file\n",
    "with open('summary/private-ownership.json', 'w') as f:\n",
    "    json.dump(out_json, f)\n"
   ]
  },
  {
   "cell_type": "markdown",
   "metadata": {},
   "source": [
    "# State lands\n",
    "\n",
    "Merge ODF/state land board owned lands "
   ]
  },
  {
   "cell_type": "code",
   "execution_count": null,
   "metadata": {},
   "outputs": [],
   "source": [
    "def get_area_acres(geometry):\n",
    "    transformer = pyproj.Transformer.from_crs('EPSG:4326', 'EPSG:2992', always_xy=True)\n",
    "    projected = transform(transformer.transform, geometry)\n",
    "    return round(shapely.area(projected) / 43560)\n",
    "\n",
    "with fiona.open('sources/ODF-lands.gpkg', 'r', layer='bounds') as src:\n",
    "    odf_lands = [feature for feature in src]\n",
    "    geometries = []\n",
    "    for feature in odf_lands:\n",
    "        geometry = shape(feature['geometry'])\n",
    "        geometries.append(geometry)\n",
    "    odf_lands_feature = {'geometry': unary_union(geometries)}\n",
    "    odf_lands_feature['properties'] = {'owner': 'Oregon Department of Forestry', 'owner_class': 'state', 'area': get_area_acres(odf_lands_feature['geometry']), 'percent_of_class': 100, 'name': 'Oregon Department of Forestry'}\n",
    "    odf_lands_feature['id'] = uuid.uuid4().int % (10**10)\n",
    "    \n",
    "with fiona.open('sources/oregon-state-land-board.gpkg', 'r', layer='bounds') as src:\n",
    "    oslb_lands = [feature for feature in src]\n",
    "    geometries = []\n",
    "    for feature in oslb_lands:\n",
    "        geometry = shape(feature['geometry'])\n",
    "        geometries.append(geometry)\n",
    "    oslb_lands_feature = {'geometry': unary_union(geometries)}\n",
    "    oslb_lands_feature['properties'] = {'owner': 'Oregon State Land Board', 'owner_class': 'state', 'area': get_area_acres(oslb_lands_feature['geometry']), 'percent_of_class': 100, 'name': 'Oregon State Land Board'}\n",
    "    oslb_lands_feature['id'] = uuid.uuid4().int % (10**10)\n",
    "\n",
    "schema = {\n",
    "    'geometry': 'MultiPolygon',\n",
    "    'id': 'int',\n",
    "    'properties': {\n",
    "        'owner': 'str',\n",
    "        'owner_class': 'str',\n",
    "        'area': 'int',\n",
    "        'percent_of_class': 'float',\n",
    "        'name': 'str'\n",
    "    }\n",
    "}   \n",
    "\n",
    "with fiona.open('sources/clean-state-lands.gpkg', 'w', driver='GPKG', schema=schema, crs=from_epsg(4326)) as dst:\n",
    "    # add the odf_lands_feature and oslb_lands_feature to the dst\n",
    "    dst.write(odf_lands_feature)\n",
    "    dst.write(oslb_lands_feature)\n",
    "\n",
    "\n"
   ]
  },
  {
   "cell_type": "markdown",
   "metadata": {},
   "source": [
    "## National forests \n",
    "\n",
    "Clean up the national forest features"
   ]
  },
  {
   "cell_type": "code",
   "execution_count": null,
   "metadata": {},
   "outputs": [
    {
     "name": "stderr",
     "output_type": "stream",
     "text": [
      "/var/folders/8h/kk4k5t952ydbc8hfg6nct2940000gn/T/ipykernel_38736/4215322853.py:8: FionaDeprecationWarning: instances of this class -- CRS, geometry, and feature objects -- will become immutable in fiona version 2.0\n",
      "  feature['properties'] = {'owner': 'United States Forest Service', 'owner_class': 'federal', 'area': area, 'percent_of_class': 0, 'name': feature['properties']['FORESTNAME']}\n",
      "/var/folders/8h/kk4k5t952ydbc8hfg6nct2940000gn/T/ipykernel_38736/4215322853.py:9: FionaDeprecationWarning: instances of this class -- CRS, geometry, and feature objects -- will become immutable in fiona version 2.0\n",
      "  feature['id'] = uuid.uuid4().int % (10**10)\n"
     ]
    }
   ],
   "source": [
    "with fiona.open('sources/usfs-oregon.gpkg', 'r', layer='bounds') as src:\n",
    "    forest_lands = [feature for feature in src]\n",
    "\n",
    "    total_forest_area = 0\n",
    "    for feature in forest_lands:\n",
    "        area = get_area_acres(shape(feature['geometry']))  \n",
    "        total_forest_area += area\n",
    "        feature['properties'] = {'owner': 'United States Forest Service', 'owner_class': 'federal', 'area': area, 'percent_of_class': 0, 'name': feature['properties']['FORESTNAME']}\n",
    "        feature['id'] = uuid.uuid4().int % (10**10)\n",
    "        \n",
    "    for feature in forest_lands:\n",
    "        feature['properties']['percent_of_class'] = round(feature['properties']['area'] / total_forest_area * 100, 2)\n",
    "        \n",
    "        \n",
    "    schema = {\n",
    "        'geometry': 'MultiPolygon',\n",
    "        'id': 'int',\n",
    "        'properties': {\n",
    "            'owner': 'str',\n",
    "            'owner_class': 'str',\n",
    "            'area': 'int',          \n",
    "            'percent_of_class': 'float',\n",
    "            'name': 'str'\n",
    "        }\n",
    "    }\n",
    "    \n",
    "    with fiona.open('sources/clean-usfs-lands.gpkg', 'w', driver='GPKG', schema=schema, crs=from_epsg(4326)) as dst:\n",
    "        dst.writerecords(forest_lands)"
   ]
  },
  {
   "cell_type": "markdown",
   "metadata": {},
   "source": [
    "## BLM lands \n",
    "\n",
    "Clean up BLM features"
   ]
  },
  {
   "cell_type": "code",
   "execution_count": 60,
   "metadata": {},
   "outputs": [
    {
     "name": "stderr",
     "output_type": "stream",
     "text": [
      "/var/folders/8h/kk4k5t952ydbc8hfg6nct2940000gn/T/ipykernel_38736/1811175559.py:9: FionaDeprecationWarning: instances of this class -- CRS, geometry, and feature objects -- will become immutable in fiona version 2.0\n",
      "  feature['properties'] = {'owner': 'Bureau of Land Management', 'owner_class': 'federal', 'area': 0, 'percent_of_class': 0, 'name': name}\n"
     ]
    }
   ],
   "source": [
    "with fiona.open('sources/blm-all-lands.gpkg', 'r', layer='bounds') as src:\n",
    "    blm_lands = [feature for feature in src]\n",
    "\n",
    "    for feature in blm_lands:\n",
    "        if feature['properties']['FeeTitleHolder'] == 'USDI Bureau of Land Management O&C Lands':\n",
    "            name = 'Bureau of Land Management O&C Lands'\n",
    "        else: \n",
    "            name = \"Bureau of Land Management\"\n",
    "        feature['properties'] = {'owner': 'Bureau of Land Management', 'owner_class': 'federal', 'area': 0, 'percent_of_class': 0, 'name': name}\n",
    "        \n",
    "    # merge all features with the same name into a single feature\n",
    "    grouped_blm_lands = {}\n",
    "    for feature in blm_lands:\n",
    "        if feature['properties']['name'] not in grouped_blm_lands:\n",
    "            grouped_blm_lands[feature['properties']['name']] = feature\n",
    "        else:\n",
    "            geometry = shape(feature['geometry'])\n",
    "            geometry2 = shape(grouped_blm_lands[feature['properties']['name']]['geometry'])\n",
    "            combined_geometry = unary_union([geometry, geometry2])\n",
    "            grouped_blm_lands[feature['properties']['name']] = {'geometry': combined_geometry, 'properties': feature['properties']}\n",
    "            \n",
    "    total_blm_area = 0\n",
    "    # calculate the area of each feature\n",
    "    for feature in grouped_blm_lands.values():\n",
    "        feature['properties']['area'] = get_area_acres(shape(feature['geometry']))\n",
    "        total_blm_area += feature['properties']['area']\n",
    "        \n",
    "    # add the percent of each feature\n",
    "    for feature in grouped_blm_lands.values():\n",
    "        feature['properties']['percent_of_class'] = round(feature['properties']['area'] / total_blm_area * 100, 2)\n",
    "        \n",
    "    schema = {\n",
    "        'geometry': 'MultiPolygon',\n",
    "        'id': 'int',\n",
    "        'properties': {\n",
    "            'owner': 'str',\n",
    "            'owner_class': 'str',\n",
    "            'area': 'int',\n",
    "            'percent_of_class': 'float',\n",
    "            'name': 'str'\n",
    "        }\n",
    "    }\n",
    "   \n",
    "    # save the grouped_blm_lands to a gpkg file\n",
    "    with fiona.open('sources/clean-blm-lands.gpkg', 'w', driver='GPKG', schema=schema, crs=from_epsg(4326)) as dst:\n",
    "        dst.writerecords(grouped_blm_lands.values())\n"
   ]
  },
  {
   "cell_type": "code",
   "execution_count": null,
   "metadata": {},
   "outputs": [],
   "source": []
  }
 ],
 "metadata": {
  "kernelspec": {
   "display_name": "atlas-cascades",
   "language": "python",
   "name": "python3"
  },
  "language_info": {
   "codemirror_mode": {
    "name": "ipython",
    "version": 3
   },
   "file_extension": ".py",
   "mimetype": "text/x-python",
   "name": "python",
   "nbconvert_exporter": "python",
   "pygments_lexer": "ipython3",
   "version": "3.13.1"
  }
 },
 "nbformat": 4,
 "nbformat_minor": 2
}
