{
 "cells": [
  {
   "cell_type": "code",
   "execution_count": 41,
   "metadata": {},
   "outputs": [],
   "source": [
    "import fiona\n",
    "import math\n",
    "import json\n",
    "import uuid"
   ]
  },
  {
   "cell_type": "markdown",
   "metadata": {},
   "source": [
    "Calculate summary statistics for private timberland owners"
   ]
  },
  {
   "cell_type": "code",
   "execution_count": 37,
   "metadata": {},
   "outputs": [],
   "source": [
    "# load sources/private-idustrial-ownership.gpkg \n",
    "with fiona.open('sources/private-industrial-ownership.gpkg', 'r') as src:\n",
    "    private_industrial = [feature for feature in src]\n",
    "        \n",
    "    total_industrial_acres = 0\n",
    "    total_non_industrial_acres = 0\n",
    "    \n",
    "    owner_totals = {}\n",
    "    for feature in private_industrial:\n",
    "        owner = feature['properties']['Owner']\n",
    "        \n",
    "        if feature['properties']['LandManager'] == 'PVI':\n",
    "            if owner == None: \n",
    "                owner = 'All Other'\n",
    "            if owner not in owner_totals:\n",
    "                owner_totals[owner] = 0\n",
    "            owner_totals[owner] += feature['properties']['GISAcres']\n",
    "            total_industrial_acres += feature['properties']['GISAcres']\n",
    "        else:\n",
    "            total_non_industrial_acres += feature['properties']['GISAcres']\n",
    "\n",
    "    # sort the owner_totals dictionary by total GISAcres\n",
    "    owner_totals_sorted = sorted(owner_totals.items(), key=lambda x: x[1], reverse=True)\n",
    "    \n",
    "    owners = []\n",
    "\n",
    "    for owner, total in owner_totals_sorted:\n",
    "        owners.append({'owner': owner, 'acres': round(total), 'percent': round(total / total_industrial_acres * 100)})\n",
    "        \n",
    "    out_json = {'owners': owners, 'total_industrial_acres': round(total_industrial_acres), 'total_non_industrial_acres': round(total_non_industrial_acres)}\n",
    "    \n",
    "    #save the out_json to a json file\n",
    "    with open('sources/private-ownership.json', 'w') as f:\n",
    "        json.dump(out_json, f)\n"
   ]
  },
  {
   "cell_type": "code",
   "execution_count": 43,
   "metadata": {},
   "outputs": [
    {
     "name": "stderr",
     "output_type": "stream",
     "text": [
      "/var/folders/8h/kk4k5t952ydbc8hfg6nct2940000gn/T/ipykernel_76434/2899456856.py:5: FionaDeprecationWarning: instances of this class -- CRS, geometry, and feature objects -- will become immutable in fiona version 2.0\n",
      "  feature['properties'] = {'id': uuid.uuid4(), 'manager': 'Oregon Department of Forestry', 'owner_class': 'state'}\n",
      "/var/folders/8h/kk4k5t952ydbc8hfg6nct2940000gn/T/ipykernel_76434/2899456856.py:10: FionaDeprecationWarning: instances of this class -- CRS, geometry, and feature objects -- will become immutable in fiona version 2.0\n",
      "  feature['properties'] = {'id': uuid.uuid4(), 'manager': 'Oregon State Land Board', 'owner_class': 'state'}\n"
     ]
    }
   ],
   "source": [
    "# open sources/ODF-lands.gpkg and sources/oregon-state-land-board.gpkg\n",
    "with fiona.open('sources/ODF-lands.gpkg', 'r') as src:\n",
    "    odf_lands = [feature for feature in src]\n",
    "    for feature in odf_lands:\n",
    "        feature['properties'] = {'id': uuid.uuid4(), 'manager': 'Oregon Department of Forestry', 'owner_class': 'state'}\n",
    "    \n",
    "with fiona.open('sources/oregon-state-land-board.gpkg', 'r') as src:\n",
    "    oslb_lands = [feature for feature in src]\n",
    "    for feature in oslb_lands:\n",
    "        feature['properties'] = {'id': uuid.uuid4(), 'manager': 'Oregon State Land Board', 'owner_class': 'state'}\n",
    "    \n",
    "# merge the odf_lands and oslb_lands\n",
    "merged_lands = odf_lands + oslb_lands\n",
    "\n",
    "schema = {\n",
    "    'geometry': 'MultiPolygon',\n",
    "    'srs': 'EPSG:2992',\n",
    "    'properties': {\n",
    "        'id': 'str',\n",
    "        'manager': 'str',\n",
    "        'owner_class': 'str'\n",
    "    }\n",
    "}\n",
    "\n",
    "# save the merged_lands to a new file\n",
    "with fiona.open('sources/merged-lands.gpkg', 'w', driver='GPKG', schema=schema) as dst:\n",
    "    dst.writerecords(merged_lands)\n"
   ]
  },
  {
   "cell_type": "code",
   "execution_count": null,
   "metadata": {},
   "outputs": [],
   "source": []
  }
 ],
 "metadata": {
  "kernelspec": {
   "display_name": "atlas-cascades",
   "language": "python",
   "name": "python3"
  },
  "language_info": {
   "codemirror_mode": {
    "name": "ipython",
    "version": 3
   },
   "file_extension": ".py",
   "mimetype": "text/x-python",
   "name": "python",
   "nbconvert_exporter": "python",
   "pygments_lexer": "ipython3",
   "version": "3.13.1"
  }
 },
 "nbformat": 4,
 "nbformat_minor": 2
}
